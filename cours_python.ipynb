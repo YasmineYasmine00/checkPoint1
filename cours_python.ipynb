{
  "nbformat": 4,
  "nbformat_minor": 0,
  "metadata": {
    "colab": {
      "name": " cours python",
      "provenance": [],
      "collapsed_sections": []
    },
    "kernelspec": {
      "name": "python3",
      "display_name": "Python 3"
    },
    "language_info": {
      "name": "python"
    }
  },
  "cells": [
    {
      "cell_type": "code",
      "execution_count": 3,
      "metadata": {
        "colab": {
          "base_uri": "https://localhost:8080/"
        },
        "id": "nm53qqQAQGWp",
        "outputId": "6a2bdce9-ce3f-4612-e7ae-ddefebc39eb3"
      },
      "outputs": [
        {
          "output_type": "stream",
          "name": "stdout",
          "text": [
            "bienvenue dans le monde python ! commençons à coder\n"
          ]
        }
      ],
      "source": [
        "print(\"bienvenue dans le monde python ! commençons à coder\")"
      ]
    }
  ]
}